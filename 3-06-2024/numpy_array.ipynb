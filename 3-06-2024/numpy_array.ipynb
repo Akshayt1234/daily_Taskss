{
  "nbformat": 4,
  "nbformat_minor": 0,
  "metadata": {
    "colab": {
      "provenance": []
    },
    "kernelspec": {
      "name": "python3",
      "display_name": "Python 3"
    },
    "language_info": {
      "name": "python"
    }
  },
  "cells": [
    {
      "cell_type": "code",
      "execution_count": 3,
      "metadata": {
        "colab": {
          "base_uri": "https://localhost:8080/"
        },
        "id": "bElPHbvPChQH",
        "outputId": "7ff1cb8a-679b-4acc-9efa-69a80d015e68"
      },
      "outputs": [
        {
          "output_type": "stream",
          "name": "stdout",
          "text": [
            "1D array: [1 2 3 4 5]\n"
          ]
        }
      ],
      "source": [
        "import numpy as np\n",
        "# N-dimensional array\n",
        "# create an array with 1D array\n",
        "array_1D=np.array([1,2,3,4,5])\n",
        "print(\"1D array:\",array_1D)"
      ]
    },
    {
      "cell_type": "code",
      "source": [
        "#create a 2D array\n",
        "array_2D=np.array([[1,2,3,4,5],[6,7,8,9,0]])\n",
        "print(\"2D array:\",array_2D)"
      ],
      "metadata": {
        "colab": {
          "base_uri": "https://localhost:8080/"
        },
        "id": "3VU8BWp7EY2h",
        "outputId": "9da646db-fa0b-44e0-ab32-4a5a15a5a342"
      },
      "execution_count": 4,
      "outputs": [
        {
          "output_type": "stream",
          "name": "stdout",
          "text": [
            "2D array: [[1 2 3 4 5]\n",
            " [6 7 8 9 0]]\n"
          ]
        }
      ]
    },
    {
      "cell_type": "code",
      "source": [
        "#create a 3D array\n",
        "array_3D=np.array([[[1,2,3,4,5],[6,7,8,9,0],[1,4,5,6,3]]])\n",
        "print(\"3D array:\",array_3D)"
      ],
      "metadata": {
        "colab": {
          "base_uri": "https://localhost:8080/"
        },
        "id": "fhS54gDQDr3e",
        "outputId": "29b32446-1823-4960-ee55-988bdad8d1b7"
      },
      "execution_count": 5,
      "outputs": [
        {
          "output_type": "stream",
          "name": "stdout",
          "text": [
            "3D array: [[[1 2 3 4 5]\n",
            "  [6 7 8 9 0]\n",
            "  [1 4 5 6 3]]]\n"
          ]
        }
      ]
    },
    {
      "cell_type": "code",
      "source": [
        "#create an array with ones\n",
        "array_ones=np.ones((2,4))\n",
        "print(\"array with ones\",array_ones)"
      ],
      "metadata": {
        "colab": {
          "base_uri": "https://localhost:8080/"
        },
        "id": "rsVFPf03Fg3F",
        "outputId": "af75480c-2b57-455f-c600-b0bc8f4fb238"
      },
      "execution_count": 8,
      "outputs": [
        {
          "output_type": "stream",
          "name": "stdout",
          "text": [
            "array with ones [[1. 1. 1. 1.]\n",
            " [1. 1. 1. 1.]]\n"
          ]
        }
      ]
    },
    {
      "cell_type": "code",
      "source": [
        "#create an array with zeros\n",
        "array_zeros=np.zeros((3,3))\n",
        "print(\"array with zeros\",array_zeros)\n"
      ],
      "metadata": {
        "colab": {
          "base_uri": "https://localhost:8080/"
        },
        "id": "DiYJUmsAHVBs",
        "outputId": "2ee315fd-bccf-49c8-c560-600c8d6f4d66"
      },
      "execution_count": 9,
      "outputs": [
        {
          "output_type": "stream",
          "name": "stdout",
          "text": [
            "array with zeros [[0. 0. 0.]\n",
            " [0. 0. 0.]\n",
            " [0. 0. 0.]]\n"
          ]
        }
      ]
    },
    {
      "cell_type": "code",
      "source": [
        "# create an array with perticular range\n",
        "array_range=np.arange(10)\n",
        "print(\"array with a range\",array_range)"
      ],
      "metadata": {
        "colab": {
          "base_uri": "https://localhost:8080/"
        },
        "id": "ivRspz_QHozM",
        "outputId": "c630279e-87f4-46da-d017-3c0271ee8533"
      },
      "execution_count": 12,
      "outputs": [
        {
          "output_type": "stream",
          "name": "stdout",
          "text": [
            "array with a range [0 1 2 3 4 5 6 7 8 9]\n"
          ]
        }
      ]
    },
    {
      "cell_type": "code",
      "source": [],
      "metadata": {
        "id": "_dL_5yEBIHvA"
      },
      "execution_count": null,
      "outputs": []
    },
    {
      "cell_type": "markdown",
      "source": [],
      "metadata": {
        "id": "xEicJyraIGaX"
      }
    }
  ]
}